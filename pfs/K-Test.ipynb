{
 "cells": [
  {
   "cell_type": "code",
   "execution_count": 17,
   "metadata": {},
   "outputs": [],
   "source": [
    "from scipy import stats\n",
    "import numpy as np\n",
    "import pfs\n",
    "\n",
    "nMC = 5000\n",
    "\n",
    "SHazMean = 60.\n",
    "SHazKappa = 200."
   ]
  },
  {
   "cell_type": "code",
   "execution_count": 26,
   "metadata": {},
   "outputs": [],
   "source": [
    "my_list = open(\"lognormalpoints.txt\").readlines()\n",
    "points = [float(i) for i in my_list]\n",
    "points = np.array(points)\n",
    "\n",
    "py_vonmises = pfs.rad2deg(np.random.vonmises(pfs.deg2rad(SHazMean), SHazKappa, nMC))\n",
    "\n",
    "mc_vonmises = points"
   ]
  },
  {
   "cell_type": "code",
   "execution_count": 28,
   "metadata": {},
   "outputs": [
    {
     "data": {
      "text/plain": [
       "KstestResult(statistic=0.0392, pvalue=0.4775264331204929)"
      ]
     },
     "execution_count": 28,
     "metadata": {},
     "output_type": "execute_result"
    }
   ],
   "source": [
    "#Compare monte-carlo sampler to python sampler \n",
    "#p-value above 0.05 indicates monte-carlo samples follow a von-mises distribution\n",
    "stats.kstest(mc_vonmises, py_vonmises)"
   ]
  }
 ],
 "metadata": {
  "kernelspec": {
   "display_name": "Python 3.9.7 ('ese-msc')",
   "language": "python",
   "name": "python3"
  },
  "language_info": {
   "codemirror_mode": {
    "name": "ipython",
    "version": 3
   },
   "file_extension": ".py",
   "mimetype": "text/x-python",
   "name": "python",
   "nbconvert_exporter": "python",
   "pygments_lexer": "ipython3",
   "version": "3.9.7"
  },
  "orig_nbformat": 4,
  "vscode": {
   "interpreter": {
    "hash": "4f200a8bbef275c22f319c82a25ad205baf89a09c663537ddb0f6e68f6d9acd2"
   }
  }
 },
 "nbformat": 4,
 "nbformat_minor": 2
}
